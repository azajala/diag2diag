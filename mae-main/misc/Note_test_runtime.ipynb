{
 "cells": [
  {
   "cell_type": "code",
   "execution_count": 1,
   "metadata": {},
   "outputs": [
    {
     "name": "stdout",
     "output_type": "stream",
     "text": [
      "80x208p16x16_0422\n",
      "MaskedAutoencoderViT(patch size=(16, 16), grid_size=(5, 13),\n",
      "  embed_dim=768, depth=12, num_heads=12, decoder_embed_dim=384,\n",
      "  decoder_depth=4, decoder_num_heads=6, mlp_ratio=4,\n",
      "  norm_pix_loss=False, use_cls_token=True, use_2d_dec_pos_embd=False)\n",
      "Runtime MelSpectrogram(16000, 400, 400, 160, 80, 50, 8000):\n",
      "MelSpectrogram(\n",
      "  Mel filter banks size = (80, 201), trainable_mel=False\n",
      "  (stft): STFT(n_fft=400, Fourier Kernel size=(201, 1, 400), iSTFT=False, trainable=False)\n",
      ")\n"
     ]
    }
   ],
   "source": [
    "import sys\n",
    "sys.path.append('..')\n",
    "import numpy as np\n",
    "import torch\n",
    "import matplotlib.pyplot as plt\n",
    "import matplotlib.patches as mpl_patches\n",
    "from einops import rearrange\n",
    "from IPython.display import display, Audio\n",
    "import textwrap\n",
    "\n",
    "from msm_mae.runtime import RuntimeMAE\n",
    "\n",
    "\n",
    "# Create runtime instance\n",
    "# weight = '../80x512p16x16_0425/checkpoint-100.pth'\n",
    "weight = '../80x208p16x16_0422/checkpoint-100.pth'\n",
    "rt = RuntimeMAE(weight_file=weight)"
   ]
  },
  {
   "cell_type": "code",
   "execution_count": 5,
   "metadata": {},
   "outputs": [
    {
     "data": {
      "text/plain": [
       "True"
      ]
     },
     "execution_count": 5,
     "metadata": {},
     "output_type": "execute_result"
    }
   ],
   "source": [
    "# Test for the fix of the issue #1\n",
    "# Caused by 11fcc4280c6e6e9a6b2d22a2599b664f8e82668a\n",
    "\n",
    "assert (rt.encode(torch.rand(8, 16000*2)).shape == torch.Size([8, 13, 3840]))"
   ]
  }
 ],
 "metadata": {
  "kernelspec": {
   "display_name": "Python 3 (ipykernel)",
   "language": "python",
   "name": "python3"
  },
  "language_info": {
   "codemirror_mode": {
    "name": "ipython",
    "version": 3
   },
   "file_extension": ".py",
   "mimetype": "text/x-python",
   "name": "python",
   "nbconvert_exporter": "python",
   "pygments_lexer": "ipython3",
   "version": "3.9.7"
  },
  "vscode": {
   "interpreter": {
    "hash": "d47b8c551b1bcfe0fd5238b830308815317a66441517e93d4548d617a96cfeaa"
   }
  }
 },
 "nbformat": 4,
 "nbformat_minor": 2
}
